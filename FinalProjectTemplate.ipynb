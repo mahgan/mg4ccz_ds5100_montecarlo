{
 "cells": [
  {
   "cell_type": "markdown",
   "id": "45762487-d33f-486d-8e38-2cdea04e3528",
   "metadata": {},
   "source": [
    "# Final Project Report\n",
    "\n",
    "* Class: DS 5100\n",
    "* Student Name: Mahin Ganesan\n",
    "* Student Net ID: mg4ccz\n",
    "* This URL: https://github.com/mahgan/mg4ccz_ds5100_montecarlo/blob/main/FinalProjectTemplate.ipynb"
   ]
  },
  {
   "cell_type": "markdown",
   "id": "acf756c1-ecaa-41dc-b6ca-d566eb94560b",
   "metadata": {},
   "source": [
    "# Instructions\n",
    "\n",
    "Follow the instructions in the [Final Project](https://ontoligent.github.io/DS5100-2023-07-R/notebooks/M00_FinalProject/FinalProjectInstructions.html) isntructions and put your work in this notebook.\n",
    "\n",
    "Total points for each subsection under **Deliverables** and **Scenarios** are given in parentheses.\n",
    "\n",
    "Breakdowns of points within subsections are specified within subsection instructions as bulleted lists.\n",
    "\n",
    "This project is worth **50 points**."
   ]
  },
  {
   "cell_type": "markdown",
   "id": "89dc7a32-f682-4402-8c1e-b6ccdb3e0e39",
   "metadata": {},
   "source": [
    "# Deliverables"
   ]
  },
  {
   "cell_type": "markdown",
   "id": "d32cb273-9a40-4909-a7ce-51f6e4958d3c",
   "metadata": {},
   "source": [
    "## The Monte Carlo Module (10)\n",
    "\n",
    "- URL included, appropriately named (1).\n",
    "- Includes all three specified classes (3).\n",
    "- Includes at least all 12 specified methods (6; .5 each)."
   ]
  },
  {
   "cell_type": "markdown",
   "id": "f5f3b070-de9e-4de9-bfae-8974d184aa28",
   "metadata": {},
   "source": [
    "Put the URL to your GitHub repo here.\n",
    "\n",
    "Repo URL: https://github.com/mahgan/mg4ccz_ds5100_montecarlo/"
   ]
  },
  {
   "cell_type": "markdown",
   "id": "162370fb-3729-4c85-b040-8c25b2c966d2",
   "metadata": {},
   "source": [
    "Paste a copyy of your module here.\n",
    "\n",
    "NOTE: Paste as text, not as code. Use triple backticks to wrap your code blocks."
   ]
  },
  {
   "cell_type": "code",
   "execution_count": 54,
   "id": "a0743efc-a785-4b5c-a9e6-b65d4507a67f",
   "metadata": {},
   "outputs": [
    {
     "data": {
      "text/plain": [
       "'\\n# Name:  Mahin Ganesan\\n# Net UD: mg4ccz\\n\\nimport pandas as pd\\nimport numpy as np\\n\\nclass Die():\\n    \"\"\"\\n    A class that creates a \"Die\" object, or any variable with n results and weights \\n    for each result that can a numeric or character value. The object can be fair, with \\n    equal weights, or unfair, with unequal weights and the object can be \"rolled\" many times.\\n    \"\"\"\\n    def __init__(self,faces):\\n        \"\"\"\\n        Initializes the class, taking an array of faces as a parameter, \\n        raises an error if input is not an array or if there are \\n        duplicate values in the array. Initializes weights to be 1.0 \\n        and saves weights and faces in a data frame.\\n        \"\"\"\\n        if not isinstance(faces,np.ndarray):\\n            raise TypeError(\"Input is not a numpy array.\")\\n        if len(faces) != len(np.unique(faces)):\\n            raise ValueError(\"Duplicate values in array.\")\\n        self.faces = faces\\n        self.weights = np.ones_like(faces,dtype=float)\\n        self.die_df = pd.DataFrame(self.weights,index=self.faces)\\n\\n    def change_weight(self,face,weight):\\n        \"\"\"\\n        Changes the weight of a single face based on an inputted face and weight value.\\n        Raises an error if the value is not a face in the array or if value is not numeric.\\n        \"\"\"\\n        if face not in self.faces:\\n            raise IndexError(\"Face value not found.\")\\n        if not isinstance(weight, (int, float)):\\n            raise TypeError(\"Input is not an numeric value.\")\\n        self.die_df.loc[face,0] = weight\\n    def roll(self,nrolls=1):\\n        \"\"\"\\n        Rolls the die object, default is one roll. Returns a list of the \\n        outcomes of the roll.\\n        \"\"\"\\n        probs = self.weights/sum(self.weights)\\n        outcomes = np.random.choice(self.faces,nrolls,p=probs)\\n        return outcomes\\n    def show_state(self):\\n        \"\"\"\\n        Returns a copy of the die data frame with faces and weights for each face.\\n        \"\"\"\\n        return self.die_df.copy()\\n\\n\\nclass Game():\\n        \"\"\"\\n        Creates the Game class, which takes in one or more dice and rolls the dice\\n        based on the form of the Game (number of rolls) using the play function.\\n        \"\"\"\\n        def __init__(self,dice):\\n            \"\"\"\\n            Takes in one parameter, a list of dice and creates a private\\n            data frame to store the results of playing a Game.\\n            \"\"\"\\n            self.dice = dice\\n            self.play_result_wide_df = pd.DataFrame()\\n        def play(self,rolls):\\n            \"\"\"\\n            Rolls the dice a given number of times and saves the result in \\n            a data frame.\\n            \"\"\"\\n            roll_df = {}\\n            for i,die in enumerate(self.dice):\\n                roll_df[i] = die.roll(rolls)\\n            self.play_result_wide_df = pd.DataFrame(roll_df)\\n        def play_results(self,form = \\'wide\\'):\\n            \"\"\"\\n            Shows the results of the play method in either a wide or narrow form\\n            and raises an error if the input provided is not either of these two.\\n            \"\"\"\\n            if form != \\'wide\\' and form != \\'narrow\\':\\n                raise ValueError(\"Invalid Option, must use between forms narrow and wide.\")\\n            elif form == \\'wide\\':\\n                return self.play_result_wide_df.copy()\\n            else:\\n                narrow_play_result_df = pd.DataFrame(self.play_result_wide_df.unstack().reset_index())\\n                narrow_play_result_df.columns = [\\'Die Number\\', \\'Roll Number\\', \\'Outcomes\\']\\n                narrow_play_result_df = narrow_play_result_df[[\\'Roll Number\\',\\'Die Number\\',\\'Outcomes\\']]\\n                return narrow_play_result_df\\n            \\n\\nclass Analyzer():\\n        \"\"\"\\n        Uses the results of a game to conduct different analyses on the game\\'s results.\\n        \"\"\"\\n        def __init__(self,game):\\n            \"\"\"\\n            Takes a Game as an input and throws an error if the object provided is not \\n            a Game object. Gets the results of the game.\\n            \"\"\"\\n            if not isinstance(game, Game):\\n                raise ValueError(\"Value provided is not a Game object.\")\\n            self.game = game\\n            self.game_results = game.play_results()\\n        def jackpot(self):\\n            \"\"\"\\n            Calculates the number of times a roll had all the same faces and\\n            returns this number as an integer.\\n            \"\"\"\\n            jackpotct = 0\\n            for r in range(len(self.game_results)):\\n                roll = self.game_results.iloc[r]\\n                isJackpot = True\\n                lastDie = roll.iloc[0]\\n                for i in range(len(roll)):\\n                    die = roll.iloc[i]\\n                    if die != lastDie:\\n                        isJackpot = False\\n                        break\\n                    lastDie = die\\n                if isJackpot:\\n                    jackpotct += 1 \\n            return jackpotct   \\n        \\n        def face_cts_per_roll(self):\\n            \"\"\"\\n            Returns a data frame with number of times each face was rolled \\n            in a Game.\\n            \"\"\"\\n            face_cts = []\\n            for val in range(len(self.game_results)):\\n                face_counts = self.game_results.iloc[val].value_counts()\\n                face_cts.append(face_counts)\\n            return pd.DataFrame(face_cts, index=range(1, len(self.game_results) + 1)).fillna(0).astype(int)\\n                              \\n        def combination_ct(self):\\n            \"\"\"\\n            Returns a data frame of the number of occurrences of each unique set of faces rolled\\n            based on a Game.\\n            \"\"\"\\n            countSets = {}\\n            for r in range(len(self.game_results)):\\n                roll = self.game_results.iloc[r]\\n                newSet = tuple()\\n                for i in range(len(roll)):\\n                    dieval = roll.iloc[i]\\n                    newSet += (dieval,)\\n                combination = tuple(sorted(list(newSet)))\\n                if combination in countSets:\\n                    countSets[combination] += 1\\n                else:\\n                    countSets[combination] = 1\\n\\n            df = pd.DataFrame.from_dict(countSets, orient=\\'index\\', columns=[\\'Count\\'])\\n            df.index = pd.MultiIndex.from_tuples(df.index)\\n\\n            return df\\n        \\n        def permutation_ct(self):\\n            \"\"\"\\n            Returns a data frame of the number of occurrences of each unique set of faces rolled\\n            in the order they were rolled in based on a Game.\\n            \"\"\"           \\n            countSets = {}\\n            for r in range(len(self.game_results)):\\n                roll = self.game_results.iloc[r]\\n                combination = tuple()\\n                for i in range(len(roll)):\\n                    dieval = roll.iloc[i]\\n                    combination += (dieval,)\\n                if combination in countSets:\\n                    countSets[combination] += 1\\n                else:\\n                    countSets[combination] = 1\\n\\n            df = pd.DataFrame.from_dict(countSets, orient=\\'index\\', columns=[\\'Count\\'])\\n            df.index = pd.MultiIndex.from_tuples(df.index)\\n\\n            return df\\n'"
      ]
     },
     "execution_count": 54,
     "metadata": {},
     "output_type": "execute_result"
    }
   ],
   "source": [
    "'''\n",
    "# Name:  Mahin Ganesan\n",
    "# Net UD: mg4ccz\n",
    "\n",
    "import pandas as pd\n",
    "import numpy as np\n",
    "\n",
    "class Die():\n",
    "    \"\"\"\n",
    "    A class that creates a \"Die\" object, or any variable with n results and weights \n",
    "    for each result that can a numeric or character value. The object can be fair, with \n",
    "    equal weights, or unfair, with unequal weights and the object can be \"rolled\" many times.\n",
    "    \"\"\"\n",
    "    def __init__(self,faces):\n",
    "        \"\"\"\n",
    "        Initializes the class, taking an array of faces as a parameter, \n",
    "        raises an error if input is not an array or if there are \n",
    "        duplicate values in the array. Initializes weights to be 1.0 \n",
    "        and saves weights and faces in a data frame.\n",
    "        \"\"\"\n",
    "        if not isinstance(faces,np.ndarray):\n",
    "            raise TypeError(\"Input is not a numpy array.\")\n",
    "        if len(faces) != len(np.unique(faces)):\n",
    "            raise ValueError(\"Duplicate values in array.\")\n",
    "        self.faces = faces\n",
    "        self.weights = np.ones_like(faces,dtype=float)\n",
    "        self.die_df = pd.DataFrame(self.weights,index=self.faces)\n",
    "\n",
    "    def change_weight(self,face,weight):\n",
    "        \"\"\"\n",
    "        Changes the weight of a single face based on an inputted face and weight value.\n",
    "        Raises an error if the value is not a face in the array or if value is not numeric.\n",
    "        \"\"\"\n",
    "        if face not in self.faces:\n",
    "            raise IndexError(\"Face value not found.\")\n",
    "        if not isinstance(weight, (int, float)):\n",
    "            raise TypeError(\"Input is not an numeric value.\")\n",
    "        self.die_df.loc[face,0] = weight\n",
    "    def roll(self,nrolls=1):\n",
    "        \"\"\"\n",
    "        Rolls the die object, default is one roll. Returns a list of the \n",
    "        outcomes of the roll.\n",
    "        \"\"\"\n",
    "        probs = self.weights/sum(self.weights)\n",
    "        outcomes = np.random.choice(self.faces,nrolls,p=probs)\n",
    "        return outcomes\n",
    "    def show_state(self):\n",
    "        \"\"\"\n",
    "        Returns a copy of the die data frame with faces and weights for each face.\n",
    "        \"\"\"\n",
    "        return self.die_df.copy()\n",
    "\n",
    "\n",
    "class Game():\n",
    "        \"\"\"\n",
    "        Creates the Game class, which takes in one or more dice and rolls the dice\n",
    "        based on the form of the Game (number of rolls) using the play function.\n",
    "        \"\"\"\n",
    "        def __init__(self,dice):\n",
    "            \"\"\"\n",
    "            Takes in one parameter, a list of dice and creates a private\n",
    "            data frame to store the results of playing a Game.\n",
    "            \"\"\"\n",
    "            self.dice = dice\n",
    "            self.play_result_wide_df = pd.DataFrame()\n",
    "        def play(self,rolls):\n",
    "            \"\"\"\n",
    "            Rolls the dice a given number of times and saves the result in \n",
    "            a data frame.\n",
    "            \"\"\"\n",
    "            roll_df = {}\n",
    "            for i,die in enumerate(self.dice):\n",
    "                roll_df[i] = die.roll(rolls)\n",
    "            self.play_result_wide_df = pd.DataFrame(roll_df)\n",
    "        def play_results(self,form = 'wide'):\n",
    "            \"\"\"\n",
    "            Shows the results of the play method in either a wide or narrow form\n",
    "            and raises an error if the input provided is not either of these two.\n",
    "            \"\"\"\n",
    "            if form != 'wide' and form != 'narrow':\n",
    "                raise ValueError(\"Invalid Option, must use between forms narrow and wide.\")\n",
    "            elif form == 'wide':\n",
    "                return self.play_result_wide_df.copy()\n",
    "            else:\n",
    "                narrow_play_result_df = pd.DataFrame(self.play_result_wide_df.unstack().reset_index())\n",
    "                narrow_play_result_df.columns = ['Die Number', 'Roll Number', 'Outcomes']\n",
    "                narrow_play_result_df = narrow_play_result_df[['Roll Number','Die Number','Outcomes']]\n",
    "                return narrow_play_result_df\n",
    "            \n",
    "\n",
    "class Analyzer():\n",
    "        \"\"\"\n",
    "        Uses the results of a game to conduct different analyses on the game's results.\n",
    "        \"\"\"\n",
    "        def __init__(self,game):\n",
    "            \"\"\"\n",
    "            Takes a Game as an input and throws an error if the object provided is not \n",
    "            a Game object. Gets the results of the game.\n",
    "            \"\"\"\n",
    "            if not isinstance(game, Game):\n",
    "                raise ValueError(\"Value provided is not a Game object.\")\n",
    "            self.game = game\n",
    "            self.game_results = game.play_results()\n",
    "        def jackpot(self):\n",
    "            \"\"\"\n",
    "            Calculates the number of times a roll had all the same faces and\n",
    "            returns this number as an integer.\n",
    "            \"\"\"\n",
    "            jackpotct = 0\n",
    "            for r in range(len(self.game_results)):\n",
    "                roll = self.game_results.iloc[r]\n",
    "                isJackpot = True\n",
    "                lastDie = roll.iloc[0]\n",
    "                for i in range(len(roll)):\n",
    "                    die = roll.iloc[i]\n",
    "                    if die != lastDie:\n",
    "                        isJackpot = False\n",
    "                        break\n",
    "                    lastDie = die\n",
    "                if isJackpot:\n",
    "                    jackpotct += 1 \n",
    "            return jackpotct   \n",
    "        \n",
    "        def face_cts_per_roll(self):\n",
    "            \"\"\"\n",
    "            Returns a data frame with number of times each face was rolled \n",
    "            in a Game.\n",
    "            \"\"\"\n",
    "            face_cts = []\n",
    "            for val in range(len(self.game_results)):\n",
    "                face_counts = self.game_results.iloc[val].value_counts()\n",
    "                face_cts.append(face_counts)\n",
    "            return pd.DataFrame(face_cts, index=range(1, len(self.game_results) + 1)).fillna(0).astype(int)\n",
    "                              \n",
    "        def combination_ct(self):\n",
    "            \"\"\"\n",
    "            Returns a data frame of the number of occurrences of each unique set of faces rolled\n",
    "            based on a Game.\n",
    "            \"\"\"\n",
    "            countSets = {}\n",
    "            for r in range(len(self.game_results)):\n",
    "                roll = self.game_results.iloc[r]\n",
    "                newSet = tuple()\n",
    "                for i in range(len(roll)):\n",
    "                    dieval = roll.iloc[i]\n",
    "                    newSet += (dieval,)\n",
    "                combination = tuple(sorted(list(newSet)))\n",
    "                if combination in countSets:\n",
    "                    countSets[combination] += 1\n",
    "                else:\n",
    "                    countSets[combination] = 1\n",
    "\n",
    "            df = pd.DataFrame.from_dict(countSets, orient='index', columns=['Count'])\n",
    "            df.index = pd.MultiIndex.from_tuples(df.index)\n",
    "\n",
    "            return df\n",
    "        \n",
    "        def permutation_ct(self):\n",
    "            \"\"\"\n",
    "            Returns a data frame of the number of occurrences of each unique set of faces rolled\n",
    "            in the order they were rolled in based on a Game.\n",
    "            \"\"\"           \n",
    "            countSets = {}\n",
    "            for r in range(len(self.game_results)):\n",
    "                roll = self.game_results.iloc[r]\n",
    "                combination = tuple()\n",
    "                for i in range(len(roll)):\n",
    "                    dieval = roll.iloc[i]\n",
    "                    combination += (dieval,)\n",
    "                if combination in countSets:\n",
    "                    countSets[combination] += 1\n",
    "                else:\n",
    "                    countSets[combination] = 1\n",
    "\n",
    "            df = pd.DataFrame.from_dict(countSets, orient='index', columns=['Count'])\n",
    "            df.index = pd.MultiIndex.from_tuples(df.index)\n",
    "\n",
    "            return df\n",
    "'''"
   ]
  },
  {
   "cell_type": "markdown",
   "id": "6377727a-8f0a-491e-9f1c-d9dc225edd35",
   "metadata": {},
   "source": [
    "## Unitest Module (2)\n",
    "\n",
    "Paste a copy of your test module below.\n",
    "\n",
    "NOTE: Paste as text, not as code. Use triple backticks to wrap your code blocks.\n",
    "\n",
    "- All methods have at least one test method (1).\n",
    "- Each method employs one of Unittest's Assert methods (1)."
   ]
  },
  {
   "cell_type": "code",
   "execution_count": 55,
   "id": "14b878d8-258b-4cf2-ad88-b8ee90d43977",
   "metadata": {},
   "outputs": [
    {
     "data": {
      "text/plain": [
       "\"\\nimport unittest\\nimport pandas as pd\\nimport numpy as np\\nfrom montecarlo import Die\\n\\n\\nclass TestDie(unittest.TestCase):\\n    def test_init(self):\\n        faces = np.array([1,2,3,4,5,6])\\n        die1 = Die(faces)\\n        self.assertTrue(isinstance(die1.faces,np.ndarray))\\n        self.assertTrue(isinstance(die1.die_df,pd.DataFrame))\\n\\n    def test_change_weight(self):\\n        faces = np.array([1,2,3,4,5,6])\\n        die1 = Die(faces)\\n        die1.change_weight(6,3)\\n        expected = 3\\n        self.assertEqual(die1.weights[5],expected)\\n\\n    def test_roll(self):\\n        faces = np.array([1,2,3,4,5,6])\\n        die1 = Die(faces)\\n        expected = 3\\n        self.assertEqual(len(die1.roll(3)),expected)\\n\\n    def test_show_state(self):\\n        faces = np.array([1,2,3,4,5,6])\\n        die1 = Die(faces)   \\n        df_copy = die1.show_state()\\n        self.assertTrue(isinstance(df_copy, pd.DataFrame))\\n\\n\\n\\nfrom montecarlo import Game\\n\\nclass TestGame(unittest.TestCase):\\n    def test_init(self):\\n        faces = np.array([1,2,3,4,5,6])\\n        die1 = Die(faces)\\n        faces2 = np.array([1,2])\\n        die2 = Die(faces2)\\n        game1 = Game([die1,die2])\\n        self.assertTrue(isinstance(game1.dice, list))\\n\\n    def test_play(self):\\n        faces = np.array([1,2,3,4,5,6])\\n        die1 = Die(faces)  \\n        faces2 = np.array([1,2])\\n        die2 = Die(faces2)\\n        game1 = Game([die1,die2])   \\n        game1.play(6)       \\n        expected = 6\\n        self.assertTrue(isinstance(game1.play_results(), pd.DataFrame))\\n        self.assertEqual(len(game1.play_results()),expected) \\n\\n    def test_play_results(self):\\n        faces = np.array([1,2,3,4,5,6])\\n        die1 = Die(faces)  \\n        faces2 = np.array([1,2])\\n        die2 = Die(faces2)\\n        game1 = Game([die1,die2])   \\n        game1.play(6)  \\n        results = game1.play_results()\\n        self.assertTrue(isinstance(results, pd.DataFrame))\\n        expected = list(range(len(game1.dice)))\\n        self.assertEqual(list(results.columns), expected)\\n\\n\\n\\nfrom montecarlo import Analyzer\\n\\nclass TestAnalyzer(unittest.TestCase):\\n    def test_init(self):\\n        faces = np.array([1,2,3,4,5,6])\\n        die1 = Die(faces)  \\n        faces2 = np.array([1,2])\\n        die2 = Die(faces2)\\n        game1 = Game([die1,die2])   \\n        game1.play(6)  \\n        analyzer1 = Analyzer(game1)\\n        self.assertTrue(isinstance(analyzer1, Analyzer))\\n\\n    def test_jackpot(self):\\n        faces = np.array([1,2,3,4,5,6])\\n        die1 = Die(faces)  \\n        faces2 = np.array([1,2])\\n        die2 = Die(faces2)\\n        game1 = Game([die1,die2])   \\n        game1.play(6)  \\n        analyzer1 = Analyzer(game1)\\n        jackpotct = analyzer1.jackpot()\\n        maxjackpotct = 6\\n        self.assertTrue(isinstance(jackpotct, int))\\n        self.assertLessEqual(jackpotct, maxjackpotct)\\n\\n    def test_face_cts_per_roll(self):\\n        faces = np.array([1,2,3,4,5,6])\\n        die1 = Die(faces)  \\n        faces2 = np.array([1,2])\\n        die2 = Die(faces2)\\n        game1 = Game([die1,die2])   \\n        game1.play(6)  \\n        analyzer1 = Analyzer(game1)\\n        face_cts_df = analyzer1.face_cts_per_roll()\\n        self.assertTrue(isinstance(face_cts_df, pd.DataFrame))\\n\\n    def test_combination_ct(self):\\n        faces = np.array([1,2,3,4,5,6])\\n        die1 = Die(faces)  \\n        faces2 = np.array([1,2])\\n        die2 = Die(faces2)\\n        game1 = Game([die1,die2])   \\n        game1.play(6)  \\n        analyzer1 = Analyzer(game1)\\n        combination_counts_df = analyzer1.combination_ct()\\n        self.assertTrue(isinstance(combination_counts_df, pd.DataFrame))\\n        self.assertTrue(isinstance(combination_counts_df.index, pd.MultiIndex))\\n    \\n    def test_permutation_ct(self):\\n        faces = np.array([1,2,3,4,5,6])\\n        die1 = Die(faces)  \\n        faces2 = np.array([1,2])\\n        die2 = Die(faces2)\\n        game1 = Game([die1,die2])   \\n        game1.play(6)  \\n        analyzer1 = Analyzer(game1)\\n        permutation_counts_df = analyzer1.permutation_ct()\\n        self.assertTrue(isinstance(permutation_counts_df, pd.DataFrame))\\n        self.assertTrue(isinstance(permutation_counts_df.index, pd.MultiIndex))\\n\\n\\n\\n\\n\\nif __name__ == '__main__':\\n    \\n    unittest.main(verbosity=3)\\n\""
      ]
     },
     "execution_count": 55,
     "metadata": {},
     "output_type": "execute_result"
    }
   ],
   "source": [
    "'''\n",
    "import unittest\n",
    "import pandas as pd\n",
    "import numpy as np\n",
    "from montecarlo import Die\n",
    "\n",
    "\n",
    "class TestDie(unittest.TestCase):\n",
    "    def test_init(self):\n",
    "        faces = np.array([1,2,3,4,5,6])\n",
    "        die1 = Die(faces)\n",
    "        self.assertTrue(isinstance(die1.faces,np.ndarray))\n",
    "        self.assertTrue(isinstance(die1.die_df,pd.DataFrame))\n",
    "\n",
    "    def test_change_weight(self):\n",
    "        faces = np.array([1,2,3,4,5,6])\n",
    "        die1 = Die(faces)\n",
    "        die1.change_weight(6,3)\n",
    "        expected = 3\n",
    "        self.assertEqual(die1.weights[5],expected)\n",
    "\n",
    "    def test_roll(self):\n",
    "        faces = np.array([1,2,3,4,5,6])\n",
    "        die1 = Die(faces)\n",
    "        expected = 3\n",
    "        self.assertEqual(len(die1.roll(3)),expected)\n",
    "\n",
    "    def test_show_state(self):\n",
    "        faces = np.array([1,2,3,4,5,6])\n",
    "        die1 = Die(faces)   \n",
    "        df_copy = die1.show_state()\n",
    "        self.assertTrue(isinstance(df_copy, pd.DataFrame))\n",
    "\n",
    "\n",
    "\n",
    "from montecarlo import Game\n",
    "\n",
    "class TestGame(unittest.TestCase):\n",
    "    def test_init(self):\n",
    "        faces = np.array([1,2,3,4,5,6])\n",
    "        die1 = Die(faces)\n",
    "        faces2 = np.array([1,2])\n",
    "        die2 = Die(faces2)\n",
    "        game1 = Game([die1,die2])\n",
    "        self.assertTrue(isinstance(game1.dice, list))\n",
    "\n",
    "    def test_play(self):\n",
    "        faces = np.array([1,2,3,4,5,6])\n",
    "        die1 = Die(faces)  \n",
    "        faces2 = np.array([1,2])\n",
    "        die2 = Die(faces2)\n",
    "        game1 = Game([die1,die2])   \n",
    "        game1.play(6)       \n",
    "        expected = 6\n",
    "        self.assertTrue(isinstance(game1.play_results(), pd.DataFrame))\n",
    "        self.assertEqual(len(game1.play_results()),expected) \n",
    "\n",
    "    def test_play_results(self):\n",
    "        faces = np.array([1,2,3,4,5,6])\n",
    "        die1 = Die(faces)  \n",
    "        faces2 = np.array([1,2])\n",
    "        die2 = Die(faces2)\n",
    "        game1 = Game([die1,die2])   \n",
    "        game1.play(6)  \n",
    "        results = game1.play_results()\n",
    "        self.assertTrue(isinstance(results, pd.DataFrame))\n",
    "        expected = list(range(len(game1.dice)))\n",
    "        self.assertEqual(list(results.columns), expected)\n",
    "\n",
    "\n",
    "\n",
    "from montecarlo import Analyzer\n",
    "\n",
    "class TestAnalyzer(unittest.TestCase):\n",
    "    def test_init(self):\n",
    "        faces = np.array([1,2,3,4,5,6])\n",
    "        die1 = Die(faces)  \n",
    "        faces2 = np.array([1,2])\n",
    "        die2 = Die(faces2)\n",
    "        game1 = Game([die1,die2])   \n",
    "        game1.play(6)  \n",
    "        analyzer1 = Analyzer(game1)\n",
    "        self.assertTrue(isinstance(analyzer1, Analyzer))\n",
    "\n",
    "    def test_jackpot(self):\n",
    "        faces = np.array([1,2,3,4,5,6])\n",
    "        die1 = Die(faces)  \n",
    "        faces2 = np.array([1,2])\n",
    "        die2 = Die(faces2)\n",
    "        game1 = Game([die1,die2])   \n",
    "        game1.play(6)  \n",
    "        analyzer1 = Analyzer(game1)\n",
    "        jackpotct = analyzer1.jackpot()\n",
    "        maxjackpotct = 6\n",
    "        self.assertTrue(isinstance(jackpotct, int))\n",
    "        self.assertLessEqual(jackpotct, maxjackpotct)\n",
    "\n",
    "    def test_face_cts_per_roll(self):\n",
    "        faces = np.array([1,2,3,4,5,6])\n",
    "        die1 = Die(faces)  \n",
    "        faces2 = np.array([1,2])\n",
    "        die2 = Die(faces2)\n",
    "        game1 = Game([die1,die2])   \n",
    "        game1.play(6)  \n",
    "        analyzer1 = Analyzer(game1)\n",
    "        face_cts_df = analyzer1.face_cts_per_roll()\n",
    "        self.assertTrue(isinstance(face_cts_df, pd.DataFrame))\n",
    "\n",
    "    def test_combination_ct(self):\n",
    "        faces = np.array([1,2,3,4,5,6])\n",
    "        die1 = Die(faces)  \n",
    "        faces2 = np.array([1,2])\n",
    "        die2 = Die(faces2)\n",
    "        game1 = Game([die1,die2])   \n",
    "        game1.play(6)  \n",
    "        analyzer1 = Analyzer(game1)\n",
    "        combination_counts_df = analyzer1.combination_ct()\n",
    "        self.assertTrue(isinstance(combination_counts_df, pd.DataFrame))\n",
    "        self.assertTrue(isinstance(combination_counts_df.index, pd.MultiIndex))\n",
    "    \n",
    "    def test_permutation_ct(self):\n",
    "        faces = np.array([1,2,3,4,5,6])\n",
    "        die1 = Die(faces)  \n",
    "        faces2 = np.array([1,2])\n",
    "        die2 = Die(faces2)\n",
    "        game1 = Game([die1,die2])   \n",
    "        game1.play(6)  \n",
    "        analyzer1 = Analyzer(game1)\n",
    "        permutation_counts_df = analyzer1.permutation_ct()\n",
    "        self.assertTrue(isinstance(permutation_counts_df, pd.DataFrame))\n",
    "        self.assertTrue(isinstance(permutation_counts_df.index, pd.MultiIndex))\n",
    "\n",
    "\n",
    "\n",
    "\n",
    "\n",
    "if __name__ == '__main__':\n",
    "    \n",
    "    unittest.main(verbosity=3)\n",
    "'''"
   ]
  },
  {
   "cell_type": "markdown",
   "id": "3e058d03-29bc-408f-b36d-0605b4f4b8c0",
   "metadata": {
    "tags": []
   },
   "source": [
    "## Unittest Results (3)\n",
    "\n",
    "Put a copy of the results of running your tests from the command line here.\n",
    "\n",
    "Again, paste as text using triple backticks.\n",
    "\n",
    "- All 12 specified methods return OK (3; .25 each)."
   ]
  },
  {
   "cell_type": "raw",
   "id": "54691fd0-836c-43c7-adc9-4a09d8aa9ab2",
   "metadata": {
    "tags": []
   },
   "source": [
    "'''\n",
    "PS C:\\Users\\lebro\\Documents\\MSDS Online\\DS 5100> C:/Users/lebro/anaconda3/python.exe \"c:/Users/lebro/Documents/MSDS Online/DS 5100/montecarlo_test.py\"\n",
    "test_combination_ct (__main__.TestAnalyzer.test_combination_ct) ... ok\n",
    "test_face_cts_per_roll (__main__.TestAnalyzer.test_face_cts_per_roll) ... ok\n",
    "test_init (__main__.TestAnalyzer.test_init) ... ok\n",
    "test_jackpot (__main__.TestAnalyzer.test_jackpot) ... ok\n",
    "test_permutation_ct (__main__.TestAnalyzer.test_permutation_ct) ... ok\n",
    "test_change_weight (__main__.TestDie.test_change_weight) ... ok\n",
    "test_init (__main__.TestDie.test_init) ... ok\n",
    "test_roll (__main__.TestDie.test_roll) ... ok\n",
    "test_show_state (__main__.TestDie.test_show_state) ... ok\n",
    "test_init (__main__.TestGame.test_init) ... ok\n",
    "test_play (__main__.TestGame.test_play) ... ok\n",
    "test_play_results (__main__.TestGame.test_play_results) ... ok\n",
    "\n",
    "----------------------------------------------------------------------\n",
    "Ran 12 tests in 0.049s\n",
    "\n",
    "OK\n",
    "'''"
   ]
  },
  {
   "cell_type": "markdown",
   "id": "d9ffe8c5-eb2f-4ad1-af76-a46550e4c7ac",
   "metadata": {},
   "source": [
    "## Import (1)\n",
    "\n",
    "Import your module here. This import should refer to the code in your package directory.\n",
    "\n",
    "- Module successuflly imported (1)."
   ]
  },
  {
   "cell_type": "code",
   "execution_count": 3,
   "id": "a05dffb3-e6d6-4f78-9df4-5abd0cf74ca9",
   "metadata": {
    "tags": []
   },
   "outputs": [],
   "source": [
    "import montecarlo.montecarlo "
   ]
  },
  {
   "cell_type": "markdown",
   "id": "f30c4842-65b1-4556-98b6-3fe1a07e1371",
   "metadata": {},
   "source": [
    "## Help Docs (4)\n",
    "\n",
    "Show your docstring documentation by applying `help()` to your imported module.\n",
    "\n",
    "- All methods have a docstring (3; .25 each).\n",
    "- All classes have a docstring (1; .33 each)."
   ]
  },
  {
   "cell_type": "code",
   "execution_count": 4,
   "id": "bf4fbf1f-9885-471c-a0a6-e9ca90e160de",
   "metadata": {
    "tags": []
   },
   "outputs": [
    {
     "name": "stdout",
     "output_type": "stream",
     "text": [
      "Help on class Die in module montecarlo.montecarlo:\n",
      "\n",
      "class Die(builtins.object)\n",
      " |  Die(faces)\n",
      " |  \n",
      " |  A class that creates a \"Die\" object, or any variable with n results and weights \n",
      " |  for each result that can a numeric or character value. The object can be fair, with \n",
      " |  equal weights, or unfair, with unequal weights and the object can be \"rolled\" many times.\n",
      " |  \n",
      " |  Methods defined here:\n",
      " |  \n",
      " |  __init__(self, faces)\n",
      " |      Initializes the class, taking an array of faces as a parameter, \n",
      " |      raises an error if input is not an array or if there are \n",
      " |      duplicate values in the array. Initializes weights to be 1.0 \n",
      " |      and saves weights and faces in a data frame.\n",
      " |  \n",
      " |  change_weight(self, face, weight)\n",
      " |      Changes the weight of a single face based on an inputted face and weight value.\n",
      " |      Raises an error if the value is not a face in the array or if value is not numeric.\n",
      " |  \n",
      " |  roll(self, nrolls=1)\n",
      " |      Rolls the die object, default is one roll. Returns a list of the \n",
      " |      outcomes of the roll.\n",
      " |  \n",
      " |  show_state(self)\n",
      " |      Returns a copy of the die data frame with faces and weights for each face.\n",
      " |  \n",
      " |  ----------------------------------------------------------------------\n",
      " |  Data descriptors defined here:\n",
      " |  \n",
      " |  __dict__\n",
      " |      dictionary for instance variables\n",
      " |  \n",
      " |  __weakref__\n",
      " |      list of weak references to the object\n",
      "\n"
     ]
    }
   ],
   "source": [
    "help(montecarlo.montecarlo.Die)"
   ]
  },
  {
   "cell_type": "code",
   "execution_count": 5,
   "metadata": {},
   "outputs": [
    {
     "name": "stdout",
     "output_type": "stream",
     "text": [
      "Help on class Game in module montecarlo.montecarlo:\n",
      "\n",
      "class Game(builtins.object)\n",
      " |  Game(dice)\n",
      " |  \n",
      " |  Creates the Game class, which takes in one or more dice and rolls the dice\n",
      " |  based on the form of the Game (number of rolls) using the play function.\n",
      " |  \n",
      " |  Methods defined here:\n",
      " |  \n",
      " |  __init__(self, dice)\n",
      " |      Takes in one parameter, a list of dice and creates a private\n",
      " |      data frame to store the results of playing a Game.\n",
      " |  \n",
      " |  play(self, rolls)\n",
      " |      Rolls the dice a given number of times and saves the result in \n",
      " |      a data frame.\n",
      " |  \n",
      " |  play_results(self, form='wide')\n",
      " |      Shows the results of the play method in either a wide or narrow form\n",
      " |      and raises an error if the input provided is not either of these two.\n",
      " |  \n",
      " |  ----------------------------------------------------------------------\n",
      " |  Data descriptors defined here:\n",
      " |  \n",
      " |  __dict__\n",
      " |      dictionary for instance variables\n",
      " |  \n",
      " |  __weakref__\n",
      " |      list of weak references to the object\n",
      "\n"
     ]
    }
   ],
   "source": [
    "help(montecarlo.montecarlo.Game)"
   ]
  },
  {
   "cell_type": "code",
   "execution_count": 6,
   "metadata": {},
   "outputs": [
    {
     "name": "stdout",
     "output_type": "stream",
     "text": [
      "Help on class Analyzer in module montecarlo.montecarlo:\n",
      "\n",
      "class Analyzer(builtins.object)\n",
      " |  Analyzer(game)\n",
      " |  \n",
      " |  Uses the results of a game to conduct different analyses on the game's results.\n",
      " |  \n",
      " |  Methods defined here:\n",
      " |  \n",
      " |  __init__(self, game)\n",
      " |      Takes a Game as an input and throws an error if the object provided is not \n",
      " |      a Game object. Gets the results of the game.\n",
      " |  \n",
      " |  combination_ct(self)\n",
      " |      Returns a data frame of the number of occurrences of each unique set of faces rolled\n",
      " |      based on a Game.\n",
      " |  \n",
      " |  face_cts_per_roll(self)\n",
      " |      Returns a data frame with number of times each face was rolled \n",
      " |      in a Game.\n",
      " |  \n",
      " |  jackpot(self)\n",
      " |      Calculates the number of times a roll had all the same faces and\n",
      " |      returns this number as an integer.\n",
      " |  \n",
      " |  permutation_ct(self)\n",
      " |      Returns a data frame of the number of occurrences of each unique set of faces rolled\n",
      " |      in the order they were rolled in based on a Game.\n",
      " |  \n",
      " |  ----------------------------------------------------------------------\n",
      " |  Data descriptors defined here:\n",
      " |  \n",
      " |  __dict__\n",
      " |      dictionary for instance variables\n",
      " |  \n",
      " |  __weakref__\n",
      " |      list of weak references to the object\n",
      "\n"
     ]
    }
   ],
   "source": [
    "help(montecarlo.montecarlo.Analyzer)"
   ]
  },
  {
   "cell_type": "markdown",
   "id": "a9defa84-b395-4966-bd1c-5c6c2bb7ed68",
   "metadata": {},
   "source": [
    "## `README.md` File (3)\n",
    "\n",
    "Provide link to the README.md file of your project's repo.\n",
    "\n",
    "- Metadata section or info present (1).\n",
    "- Synopsis section showing how each class is called (1). (All must be included.)\n",
    "- API section listing all classes and methods (1). (All must be included.)"
   ]
  },
  {
   "cell_type": "markdown",
   "id": "ee090b33-d593-48a0-bf35-e739cea0942c",
   "metadata": {},
   "source": [
    "URL: https://github.com/mahgan/mg4ccz_ds5100_montecarlo/blob/main/README.md"
   ]
  },
  {
   "cell_type": "markdown",
   "id": "108604c8-8827-42ef-ab59-6b25428fc0ca",
   "metadata": {},
   "source": [
    "## Successful installation (2)\n",
    "\n",
    "Put a screenshot or paste a copy of a terminal session where you successfully install your module with pip.\n",
    "\n",
    "If pasting text, use a preformatted text block to show the results.\n",
    "\n",
    "- Installed with `pip` (1).\n",
    "- Successfully installed message appears (1)."
   ]
  },
  {
   "cell_type": "markdown",
   "metadata": {},
   "source": [
    "![Sample Image](pip_install_montecarlo_success.png)\n"
   ]
  },
  {
   "cell_type": "markdown",
   "id": "7c44695d-d1b3-4edf-9f94-e64d7446f199",
   "metadata": {},
   "source": [
    "# Scenarios\n",
    "\n",
    "Use code blocks to perform the tasks for each scenario.\n",
    "\n",
    "Be sure the outputs are visible before submitting."
   ]
  },
  {
   "cell_type": "markdown",
   "id": "e2479eae-6fc9-44cd-b8d7-9b22cb501f2a",
   "metadata": {
    "tags": []
   },
   "source": [
    "## Scenario 1: A 2-headed Coin (9)\n",
    "\n",
    "Task 1. Create a fair coin (with faces $H$ and $T$) and one unfair coin in which one of the faces has a weight of $5$ and the others $1$.\n",
    "\n",
    "- Fair coin created (1).\n",
    "- Unfair coin created with weight as specified (1)."
   ]
  },
  {
   "cell_type": "code",
   "execution_count": 7,
   "id": "55ce498e-c75f-4425-9e3e-b635bd6cd9e1",
   "metadata": {},
   "outputs": [],
   "source": [
    "import numpy as np\n",
    "import pandas as pd\n",
    "from montecarlo.montecarlo import Die\n",
    "faces = np.array(['H','T'])\n",
    "die1 = Die(faces)  \n",
    "faces2 = np.array(['H','T'])\n",
    "die2 = Die(faces2)\n",
    "die2.change_weight('H', 5)\n"
   ]
  },
  {
   "cell_type": "markdown",
   "id": "02b272ab-99da-4b6e-ac2a-555b73e09c07",
   "metadata": {},
   "source": [
    "Task 2. Play a game of $1000$ flips with two fair dice.\n",
    "\n",
    "- Play method called correclty and without error (1)."
   ]
  },
  {
   "cell_type": "code",
   "execution_count": 8,
   "id": "65c92601-d32d-4326-b215-74953aee27f2",
   "metadata": {},
   "outputs": [],
   "source": [
    "from montecarlo.montecarlo import Game\n",
    "\n",
    "game1 = Game([die1,die2])\n",
    "game1.play(1000)"
   ]
  },
  {
   "cell_type": "markdown",
   "id": "7d9c3dc8-22c1-4cae-81fb-d68d774a05d1",
   "metadata": {},
   "source": [
    "Task 3. Play another game (using a new Game object) of $1000$ flips, this time using two unfair dice and one fair die. For the second unfair die, you can use the same die object twice in the list of dice you pass to the Game object.\n",
    "\n",
    "- New game object created (1).\n",
    "- Play method called correclty and without error (1)."
   ]
  },
  {
   "cell_type": "code",
   "execution_count": 9,
   "id": "d4098bed-1eb2-4084-8d5e-9fda07c3be43",
   "metadata": {},
   "outputs": [],
   "source": [
    "game2 = Game([die1,die2,die2])\n",
    "rolls = 1000\n",
    "game2.play(rolls)"
   ]
  },
  {
   "cell_type": "markdown",
   "id": "f690ebfc-fe71-4eb2-976d-7ac80ca6c23f",
   "metadata": {},
   "source": [
    "Task 4. For each game, use an Analyzer object to determine the raw frequency of jackpots — i.e. getting either all $H$s or all $T$s.\n",
    "\n",
    "- Analyzer objecs instantiated for both games (1).\n",
    "- Raw frequencies reported for both (1)."
   ]
  },
  {
   "cell_type": "code",
   "execution_count": 10,
   "id": "b26b8b7e-3be7-4476-a9a4-37d97536729e",
   "metadata": {},
   "outputs": [
    {
     "name": "stdout",
     "output_type": "stream",
     "text": [
      "498\n",
      "373\n"
     ]
    }
   ],
   "source": [
    "from montecarlo.montecarlo import Analyzer\n",
    "\n",
    "analyzer1 = Analyzer(game1)\n",
    "analyzer2 = Analyzer(game2)\n",
    "\n",
    "jackpot1 = analyzer1.jackpot()\n",
    "jackpot2 = analyzer2.jackpot()\n",
    "print(jackpot1)\n",
    "print(jackpot2)"
   ]
  },
  {
   "cell_type": "markdown",
   "id": "b73d233c-445e-40cd-8858-0c5e1f097105",
   "metadata": {},
   "source": [
    "Task 5. For each analyzer, compute relative frequency as the number of jackpots over the total number of rolls.\n",
    "\n",
    "- Both relative frequencies computed (1)."
   ]
  },
  {
   "cell_type": "code",
   "execution_count": 11,
   "id": "9a96b31b-1b9d-496e-be3e-4bf83c45ec3a",
   "metadata": {},
   "outputs": [
    {
     "data": {
      "text/plain": [
       "0.498"
      ]
     },
     "execution_count": 11,
     "metadata": {},
     "output_type": "execute_result"
    }
   ],
   "source": [
    "relfreq1 = jackpot1/rolls\n",
    "relfreq1"
   ]
  },
  {
   "cell_type": "code",
   "execution_count": 12,
   "metadata": {},
   "outputs": [
    {
     "data": {
      "text/plain": [
       "0.373"
      ]
     },
     "execution_count": 12,
     "metadata": {},
     "output_type": "execute_result"
    }
   ],
   "source": [
    "relfreq2 = jackpot2/rolls\n",
    "relfreq2"
   ]
  },
  {
   "cell_type": "markdown",
   "id": "a6e1e734-7f5c-4721-8ba4-2f3a424cf984",
   "metadata": {},
   "source": [
    "Task 6. Show your results, comparing the two relative frequencies, in a simple bar chart.\n",
    "\n",
    "- Bar chart plotted and correct (1)."
   ]
  },
  {
   "cell_type": "code",
   "execution_count": 80,
   "id": "473fa67c-aa53-4aa3-a0b7-e8772b3f6ed3",
   "metadata": {},
   "outputs": [
    {
     "data": {
      "text/plain": [
       "Text(0.5, 1.0, 'Jackpot Frequencies by Fair or Unfair Coin')"
      ]
     },
     "execution_count": 80,
     "metadata": {},
     "output_type": "execute_result"
    },
    {
     "data": {
      "image/png": "[encoded data removed]",
      "text/plain": [
       "<Figure size 640x480 with 1 Axes>"
      ]
     },
     "metadata": {},
     "output_type": "display_data"
    }
   ],
   "source": [
    "import matplotlib.pyplot as plt\n",
    "vals = [relfreq1,relfreq2]\n",
    "indexes = [0,1]\n",
    "plt.bar(indexes,vals)\n",
    "plt.xlabel('Fair vs Unfair Respectively')\n",
    "plt.ylabel('Jackpot Relative Frequencies')\n",
    "plt.title('Jackpot Frequencies by Fair or Unfair Coin')"
   ]
  },
  {
   "cell_type": "markdown",
   "id": "725cfa5b-e4b7-47c9-86aa-8d9e1fe6c8c7",
   "metadata": {},
   "source": [
    "## Scenario 2: A 6-sided Die (9)\n",
    "\n",
    "Task 1. Create three dice, each with six sides having the faces 1 through 6.\n",
    "\n",
    "- Three die objects created (1)."
   ]
  },
  {
   "cell_type": "code",
   "execution_count": 13,
   "id": "6a8bc611-325a-4e05-88d5-980e0a2cf7c5",
   "metadata": {},
   "outputs": [],
   "source": [
    "faces = np.array([1,2,3,4,5,6])\n",
    "die1 = Die(faces)  \n",
    "die2 = Die(faces)  \n",
    "die3 = Die(faces)\n"
   ]
  },
  {
   "cell_type": "markdown",
   "id": "2ed3ad26-fbe9-43bd-9ad7-f683a4191d12",
   "metadata": {},
   "source": [
    "Task 2. Convert one of the dice to an unfair one by weighting the face $6$ five times more than the other weights (i.e. it has weight of 5 and the others a weight of 1 each).\n",
    "\n",
    "- Unfair die created with proper call to weight change method (1)."
   ]
  },
  {
   "cell_type": "code",
   "execution_count": 14,
   "id": "e33dd18f-7f90-456d-a680-61c08a328e21",
   "metadata": {},
   "outputs": [],
   "source": [
    "die1.change_weight(6,5)"
   ]
  },
  {
   "cell_type": "markdown",
   "id": "7f6c062a-4c5b-45b9-96b8-76a0354c7e47",
   "metadata": {},
   "source": [
    "Task 3. Convert another of the dice to be unfair by weighting the face $1$ five times more than the others.\n",
    "\n",
    "- Unfair die created with proper call to weight change method (1)."
   ]
  },
  {
   "cell_type": "code",
   "execution_count": 15,
   "id": "01133a4e-6b06-4246-8d90-8e6d6995be51",
   "metadata": {},
   "outputs": [],
   "source": [
    "die2.change_weight(1,5)"
   ]
  },
  {
   "cell_type": "markdown",
   "id": "f0ed31cb-0a3c-4eb2-b85e-6ed6b2eb6e58",
   "metadata": {},
   "source": [
    "Task 4. Play a game of $10000$ rolls with $5$ fair dice.\n",
    "\n",
    "- Game class properly instantiated (1). \n",
    "- Play method called properly (1)."
   ]
  },
  {
   "cell_type": "code",
   "execution_count": 16,
   "id": "e92395a4-9ed8-4cb0-8c85-38768a784ffc",
   "metadata": {},
   "outputs": [],
   "source": [
    "gamefairdice = Game([die3,die3,die3,die3,die3])\n",
    "rolls2 = 10000\n",
    "\n",
    "gamefairdice.play(rolls2)"
   ]
  },
  {
   "cell_type": "markdown",
   "id": "7814b402-46a4-40e5-8141-20e05c3e646b",
   "metadata": {},
   "source": [
    "Task 5. Play another game of $10000$ rolls, this time with $2$ unfair dice, one as defined in steps #2 and #3 respectively, and $3$ fair dice.\n",
    "\n",
    "- Game class properly instantiated (1). \n",
    "- Play method called properly (1)."
   ]
  },
  {
   "cell_type": "code",
   "execution_count": 17,
   "id": "7cd58fba-b2a5-4d5d-bc6d-2a7a68d18c4f",
   "metadata": {},
   "outputs": [],
   "source": [
    "gameunfairdice = Game([die1,die2,die3,die3,die3])\n",
    "\n",
    "gameunfairdice.play(rolls2)"
   ]
  },
  {
   "cell_type": "markdown",
   "id": "7b6cd372-2bb8-4df8-ade1-8f48bc300955",
   "metadata": {},
   "source": [
    "Task 6. For each game, use an Analyzer object to determine the relative frequency of jackpots and show your results, comparing the two relative frequencies, in a simple bar chart.\n",
    "\n",
    "- Jackpot methods called (1).\n",
    "- Graph produced (1)."
   ]
  },
  {
   "cell_type": "code",
   "execution_count": 79,
   "id": "bbdcf695-8937-406e-9b53-aa0b9ee3c59a",
   "metadata": {},
   "outputs": [
    {
     "data": {
      "text/plain": [
       "Text(0.5, 1.0, 'Jackpot Frequencies by Fair or Unfair Dice 6 Sides')"
      ]
     },
     "execution_count": 79,
     "metadata": {},
     "output_type": "execute_result"
    },
    {
     "data": {
      "image/png": "[encoded data removed]",
      "text/plain": [
       "<Figure size 640x480 with 1 Axes>"
      ]
     },
     "metadata": {},
     "output_type": "display_data"
    }
   ],
   "source": [
    "analyzerfair = Analyzer(gamefairdice)\n",
    "analyzerunfair = Analyzer(gameunfairdice)\n",
    "\n",
    "jackpot1 = analyzerfair.jackpot()\n",
    "jackpot2 = analyzerunfair.jackpot()\n",
    "reljackpot1 = jackpot1/rolls2\n",
    "reljackpot2 = jackpot2/rolls2\n",
    "\n",
    "\n",
    "vals = [reljackpot1,reljackpot2]\n",
    "indexes = [0,1]\n",
    "plt.bar(indexes,vals)\n",
    "plt.xlabel('Fair vs Unfair Respectively')\n",
    "plt.ylabel('Jackpot Relative Frequencies')\n",
    "plt.title('Jackpot Frequencies by Fair or Unfair Dice 6 Sides')"
   ]
  },
  {
   "cell_type": "markdown",
   "id": "9f04e9be-8fcf-4ea4-a391-6614608285f8",
   "metadata": {},
   "source": [
    "## Scenario 3: Letters of the Alphabet (7)\n",
    "\n",
    "Task 1. Create a \"die\" of letters from $A$ to $Z$ with weights based on their frequency of usage as found in the data file `english_letters.txt`. Use the frequencies (i.e. raw counts) as weights.\n",
    "\n",
    "- Die correctly instantiated with source file data (1).\n",
    "- Weights properly applied using weight setting method (1)."
   ]
  },
  {
   "cell_type": "code",
   "execution_count": 56,
   "id": "b0ceb771-3cdf-4d8f-8c2c-020806bbb909",
   "metadata": {},
   "outputs": [],
   "source": [
    "sum = 0\n",
    "dict1 = {}\n",
    "with open(\"english_letters.txt\", 'r') as file:\n",
    "    for line in file:\n",
    "        #print(line.strip()) \n",
    "        [letter, num] = line.split(\" \")\n",
    "        dict1[letter] = int(num)\n",
    "\n",
    "\n",
    "faceslet = np.array(list(dict1.keys()))\n",
    "\n",
    "dielet = Die(faceslet)\n",
    "\n",
    "for val in dict1:\n",
    "    dielet.change_weight(val,dict1[val])"
   ]
  },
  {
   "cell_type": "markdown",
   "id": "88e2e14a-6223-470a-a2c8-bca1120d7a5b",
   "metadata": {},
   "source": [
    "Task 2. Play a game involving $4$ of these dice with $1000$ rolls.\n",
    "\n",
    "- Game play method properly called (1)."
   ]
  },
  {
   "cell_type": "code",
   "execution_count": 22,
   "id": "2ae087cc-936d-4f1e-bddb-a7c179d139e0",
   "metadata": {},
   "outputs": [],
   "source": [
    "gamelet = Game([dielet,dielet,dielet,dielet])\n",
    "\n",
    "gamelet.play(1000)"
   ]
  },
  {
   "cell_type": "markdown",
   "id": "3b9ff800-bf1f-4f66-9d7f-ff57a648e9f0",
   "metadata": {},
   "source": [
    "Task 3. Determine how many permutations in your results are actual English words, based on the vocabulary found in `scrabble_words.txt`.\n",
    "\n",
    "- Use permutation method (1).\n",
    "- Get count as difference between permutations and vocabulary (1)."
   ]
  },
  {
   "cell_type": "code",
   "execution_count": 68,
   "id": "ed1c7fa0-cfa3-4cf4-9fd0-9f84b86b0f64",
   "metadata": {},
   "outputs": [
    {
     "name": "stdout",
     "output_type": "stream",
     "text": [
      "Number of four letter permutations that are scrabble words: 56\n"
     ]
    },
    {
     "name": "stderr",
     "output_type": "stream",
     "text": [
      "C:\\Users\\lebro\\AppData\\Local\\Temp\\ipykernel_2076\\1122139331.py:14: FutureWarning: Calling int on a single element Series is deprecated and will raise a TypeError in the future. Use int(ser.iloc[0]) instead\n",
      "  perm_count = int(permutations.iloc[r])\n"
     ]
    }
   ],
   "source": [
    "analyzerlet = Analyzer(gamelet)\n",
    "sum = 0\n",
    "\n",
    "wordSet = set()\n",
    "with open(\"scrabble_words.txt\", 'r') as file:\n",
    "    for line in file:\n",
    "        wordSet.add(line.strip())\n",
    "\n",
    "permutations = analyzerlet.permutation_ct()\n",
    "for r in range(len(permutations)):\n",
    "    perm_tuple = permutations.index[r]\n",
    "    perm_string = ''.join(str(val) for val in perm_tuple)\n",
    "\n",
    "    perm_count = int(permutations.iloc[r])\n",
    "\n",
    "    if perm_string in wordSet:\n",
    "        sum += perm_count\n",
    "\n",
    "print(\"Number of four letter permutations that are scrabble words:\", sum)\n"
   ]
  },
  {
   "cell_type": "markdown",
   "id": "fcf068cf-381a-4b3e-ac3a-0510eb4dbdb0",
   "metadata": {},
   "source": [
    "Task 4. Repeat steps #2 and #3, this time with $5$ dice. How many actual words does this produce? Which produces more?\n",
    "\n",
    "- Successfully repreats steps (1).\n",
    "- Identifies parameter with most found words (1)."
   ]
  },
  {
   "cell_type": "code",
   "execution_count": 72,
   "id": "e3198f94-635b-4304-88e9-bfcea5d0cf5a",
   "metadata": {},
   "outputs": [
    {
     "name": "stderr",
     "output_type": "stream",
     "text": [
      "C:\\Users\\lebro\\AppData\\Local\\Temp\\ipykernel_2076\\3880326314.py:13: FutureWarning: Calling int on a single element Series is deprecated and will raise a TypeError in the future. Use int(ser.iloc[0]) instead\n",
      "  perm_count2 = int(permutations2.iloc[r])\n"
     ]
    },
    {
     "name": "stdout",
     "output_type": "stream",
     "text": [
      "Number of five letter permutations that are scrabble words 5\n",
      "4 dice produces more words in the scrabble dictionary than 5 dice.\n"
     ]
    }
   ],
   "source": [
    "gamelet2 = Game([dielet,dielet,dielet,dielet,dielet])\n",
    "\n",
    "gamelet2.play(1000)\n",
    "\n",
    "analyzerlet2 = Analyzer(gamelet2)\n",
    "sum2 = 0\n",
    "\n",
    "permutations2 = analyzerlet2.permutation_ct()\n",
    "for r in range(len(permutations2)):\n",
    "    perm_tuple2 = permutations2.index[r]\n",
    "    perm_string2 = ''.join(str(val) for val in perm_tuple2)\n",
    "\n",
    "    perm_count2 = int(permutations2.iloc[r])\n",
    "\n",
    "    if perm_string2 in wordSet:\n",
    "        sum2 += perm_count2\n",
    "\n",
    "print(\"Number of five letter permutations that are scrabble words: \", sum2)\n",
    "\n",
    "if sum2 < sum: \n",
    "    print(\"4 dice produces more words in the scrabble dictionary than 5 dice.\")\n",
    "elif sum2 > sum:\n",
    "    print(\"5 dice produces more words in the scrabble dictionary than 4 dice.\")\n",
    "else:\n",
    "    print(\"5 dice and 4 dice produce the same number of words in the scrabble dictionary.\")\n"
   ]
  },
  {
   "cell_type": "markdown",
   "id": "c278a60d-a4dd-48df-8317-650185f7f0ca",
   "metadata": {},
   "source": [
    "# Submission"
   ]
  },
  {
   "cell_type": "markdown",
   "id": "a2b34ea0-96d3-4e0a-ac65-00a1cf287008",
   "metadata": {},
   "source": [
    "When finished completing the above tasks, save this file to your local repo (and within your project), and them push it to your GitHub repo.\n",
    "\n",
    "Then convert this file to a PDF and submit it to GradeScope according to the assignment instructions in Canvas."
   ]
  }
 ],
 "metadata": {
  "kernelspec": {
   "display_name": "Python 3 (ipykernel)",
   "language": "python",
   "name": "python3"
  },
  "language_info": {
   "codemirror_mode": {
    "name": "ipython",
    "version": 3
   },
   "file_extension": ".py",
   "mimetype": "text/x-python",
   "name": "python",
   "nbconvert_exporter": "python",
   "pygments_lexer": "ipython3",
   "version": "3.11.7"
  },
  "toc-autonumbering": true,
  "widgets": {
   "application/vnd.jupyter.widget-state+json": {
    "state": {},
    "version_major": 2,
    "version_minor": 0
   }
  }
 },
 "nbformat": 4,
 "nbformat_minor": 5
}
